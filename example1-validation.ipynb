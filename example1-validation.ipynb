{
 "cells": [
  {
   "cell_type": "markdown",
   "id": "f4dc026b",
   "metadata": {},
   "source": [
    "# Overview \n",
    "\n",
    "The code first imports the os and re modules. The os module provides a way to interact with the operating system, directories, and files. The re module provides support for regular expressions in Python.\n",
    "\n",
    "The code then defines a function called print_phone_number(). This function takes a filename as input and checks if the file contains a valid phone number. If the file does contain a valid phone number, the function returns 1. If the file does not contain a valid phone number, the function returns 0. If the file contains a plagiarized phone number, the function returns -1.\n",
    "\n",
    "The code then defines two empty dictionaries called phone_numbers and scores. The phone_numbers dictionary will store the phone numbers found in the files, and the scores dictionary will store the scores for each file.\n",
    "\n",
    "The code then enters a while loop. In the while loop, the code prompts the user to enter a filename. If the user enters \"quit\", the program quits. Otherwise, the code checks if the file exists. If the file does not exist, the code prints a message indicating that the file was not found. Otherwise, the code calls the print_phone_number() function and stores the result in a variable called result. The code then prints a message indicating the result of the print_phone_number() function. The code then stores the result of the print_phone_number() function in the scores dictionary."
   ]
  },
  {
   "cell_type": "code",
   "execution_count": 2,
   "id": "8c7a69cc",
   "metadata": {},
   "outputs": [
    {
     "name": "stdout",
     "output_type": "stream",
     "text": [
      "Enter the filename to search for (or type 'quit' to exit): joe-smith.ipynb\n",
      "Good work\n",
      "Score:  1\n",
      "Enter the filename to search for (or type 'quit' to exit): susan-good.ipynb\n",
      "Incorrect format\n",
      "Score:  0\n",
      "Enter the filename to search for (or type 'quit' to exit): rob-green.ipynb\n",
      "Good work\n",
      "Score:  1\n",
      "Enter the filename to search for (or type 'quit' to exit): al-johnson.ipynb\n",
      "Same number used by another student. Plagiarism detected.\n",
      "Score:  -1\n",
      "Enter the filename to search for (or type 'quit' to exit): quit\n",
      "Scores:\n",
      "joe-smith.ipynb :  1\n",
      "susan-good.ipynb :  0\n",
      "rob-green.ipynb :  1\n",
      "al-johnson.ipynb :  -1\n"
     ]
    }
   ],
   "source": [
    "import os # module provides a way to interact with the operating system, directories, functions\n",
    "import re # module provides support for regular expressions in Python\n",
    "\n",
    "# () takes no arguments, function depend on filename variable defined outside of function\n",
    "def print_phone_number(): \n",
    "    # This function will check for a valid phone number in the student's submission file\n",
    "    # If the phone number is valid, return True. Otherwise, return False\n",
    "    # We will assume that the phone number is in the format 'XXX-XXX-XXXX' (where X is a digit between 0 and 9)\n",
    "    # (filename) is a variable that contains the name of file that needs to be opened\n",
    "    \n",
    "    # with prevents error, open() function, file named filename and assigns it to the variable f \n",
    "    with open(filename) as f: \n",
    "        contents = f.read() # reads the contents of the file opened with f and assigns them to the variable contents\n",
    "        pattern = re.compile(r'\\d{3}-\\d{3}-\\d{4}') # re.compile function creates reg expression pattern for matching phone #\n",
    "        match = pattern.search(contents) # searches for the regular expression, returns match object if found\n",
    "        if match: # if valid phone # found, group method assigns to phone number\n",
    "            phone_number = match.group() #  match obj, extracts phone number found in file using regular expression pattern\n",
    "            if phone_number in phone_numbers.values(): #  checks if extracted phone_number exists phone numbers dict\n",
    "                return -1 # Plagiarism detected\n",
    "            else:\n",
    "                phone_numbers[filename] = phone_number # if not plagerized, then adds phone # to dictionary\n",
    "                return 1 # Good work\n",
    "        else:\n",
    "            return 0 # Incorrect format\n",
    "\n",
    "# Executed before main loop below, ensures dictionaries are empty before processing of files\n",
    "phone_numbers = {} # Creates an empty dictionary called phone_numbers.\n",
    "scores = {} # Creates an empty dictionary called scores.\n",
    "\n",
    "# enters while loop runs indefinitly until user types \"quit\"\n",
    "while True: \n",
    "    filename = input(\"Enter the filename to search for (or type 'quit' to exit): \") # input() function to get string from user\n",
    "    if filename == 'quit': # checks if the variable filename is equal to the string quit, if so, program quits\n",
    "        break # used to exit a loop, loop terminated if user types quit\n",
    "    if os.path.isfile(filename): # function to check if the file with the name filename exist, if not, code block skipped \n",
    "        result = print_phone_number() # calls the print_phone_number() function, stores in variable result\n",
    "        if result == 1: # If result is equal to 1, the message \"Good work\" is printed\n",
    "            print(\"Good work\")\n",
    "        elif result == 0: # If the result is 0, print a message indicating that the phone number is in an incorrect format\n",
    "            print(\"Incorrect format\")\n",
    "        else: # If the result is not 0 or 1, print a message indicating that the phone number has been plagiarized\n",
    "            print(\"Same number used by another student. Plagiarism detected.\")\n",
    "        score = result # Set the score to the result of the print_phone_number() function\n",
    "    else:\n",
    "        print(\"File not found\") # If the file does not exist, print a message indicating that the file was not found.\n",
    "        score = 0 \n",
    "\n",
    "    print(\"Score: \", score) # print the user's score to the console\n",
    "    scores[filename] = score # store the user's score for the file filename in the dictionary: score  \n",
    "\n",
    "print(\"Scores:\") # heading that is used to indicate that the following output will be the user's scores\n",
    "\n",
    "# for loop that iterates over the dictionary scores, assign key to variable 'filename' and value to score\n",
    "for filename, score in scores.items(): # scores.items() returns an iterator object, access keys and values 1 at a time\n",
    "    print(filename, \": \", score) # print the file name and score to the console\n"
   ]
  },
  {
   "cell_type": "markdown",
   "id": "e813b20c",
   "metadata": {},
   "source": [
    "# Check files that match \n",
    "\n",
    "This script will search the current directory for any ipynb files and print any phone numbers that match 998-333-4444, along with the file name.\n",
    "\n"
   ]
  },
  {
   "cell_type": "code",
   "execution_count": 9,
   "id": "15815fc9",
   "metadata": {},
   "outputs": [
    {
     "name": "stdout",
     "output_type": "stream",
     "text": [
      "File: al-johnson.ipynb | Phone number: 998-333-4444\n",
      "File: example1-validation.ipynb | Phone number: 998-333-4444\n",
      "File: rob-green.ipynb | Phone number: 998-333-4444\n"
     ]
    }
   ],
   "source": [
    "import os\n",
    "import re\n",
    "\n",
    "def print_phone_number(filename): #  search for all phone numbers\n",
    "    with open(filename) as f: # opens the file specified by the filename argument and binds the file object to the variable f\n",
    "        contents = f.read() # ead() method reads the entire contents of the file and returns it as a string\n",
    "        pattern = re.compile(r'\\d{3}-\\d{3}-\\d{4}') # compiles a regular expression into a pattern object\n",
    "        match = pattern.search(contents) # searches the string for the regular expression and returns a match object if found\n",
    "        if match:\n",
    "            phone_number = match.group() # match.group() method returns the text that was matched by the regular expression. \n",
    "            if phone_number == \"998-333-4444\": # input phone number to search cd \n",
    "                print(\"File:\", filename, \"| Phone number:\", phone_number) # prints filename and phone numbers matching \n",
    "\n",
    "for filename in os.listdir(\"./\"): # loop iterates over the files in the current directory, returns a list of the names\n",
    "    if filename.endswith(\".ipynb\"): # checks if the file name ends with the .ipynb extension\n",
    "        print_phone_number(filename) # prints the phone number that is found in the specified file\n"
   ]
  },
  {
   "cell_type": "code",
   "execution_count": null,
   "id": "7e0d1690",
   "metadata": {},
   "outputs": [],
   "source": []
  }
 ],
 "metadata": {
  "kernelspec": {
   "display_name": "Python 3 (ipykernel)",
   "language": "python",
   "name": "python3"
  },
  "language_info": {
   "codemirror_mode": {
    "name": "ipython",
    "version": 3
   },
   "file_extension": ".py",
   "mimetype": "text/x-python",
   "name": "python",
   "nbconvert_exporter": "python",
   "pygments_lexer": "ipython3",
   "version": "3.9.13"
  }
 },
 "nbformat": 4,
 "nbformat_minor": 5
}
