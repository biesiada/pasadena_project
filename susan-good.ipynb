{
 "cells": [
  {
   "cell_type": "markdown",
   "id": "4fe5d603",
   "metadata": {},
   "source": [
    "# Student submission\n",
    "\n",
    "Generates a specific phone number, you can simply define it as a string and return it from the function"
   ]
  },
  {
   "cell_type": "code",
   "execution_count": 1,
   "id": "452e73a9",
   "metadata": {},
   "outputs": [
    {
     "name": "stdout",
     "output_type": "stream",
     "text": [
      "999\n"
     ]
    }
   ],
   "source": [
    "def print_phone_number():\n",
    "    return \"999\"\n",
    "\n",
    "# Example usage:\n",
    "print(print_phone_number()) \n"
   ]
  },
  {
   "cell_type": "code",
   "execution_count": null,
   "id": "77c7a032",
   "metadata": {},
   "outputs": [],
   "source": []
  }
 ],
 "metadata": {
  "kernelspec": {
   "display_name": "Python 3 (ipykernel)",
   "language": "python",
   "name": "python3"
  },
  "language_info": {
   "codemirror_mode": {
    "name": "ipython",
    "version": 3
   },
   "file_extension": ".py",
   "mimetype": "text/x-python",
   "name": "python",
   "nbconvert_exporter": "python",
   "pygments_lexer": "ipython3",
   "version": "3.9.13"
  }
 },
 "nbformat": 4,
 "nbformat_minor": 5
}
