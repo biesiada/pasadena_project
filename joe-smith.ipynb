{
 "cells": [
  {
   "cell_type": "markdown",
   "id": "4fe5d603",
   "metadata": {},
   "source": [
    "# Student submission\n",
    "\n",
    "Generates a specific phone number, you can simply define it as a string and return it from the function"
   ]
  },
  {
   "cell_type": "code",
   "execution_count": 1,
   "id": "452e73a9",
   "metadata": {},
   "outputs": [
    {
     "name": "stdout",
     "output_type": "stream",
     "text": [
      "999-333-4444\n"
     ]
    }
   ],
   "source": [
    "def print_phone_number():\n",
    "    return \"999-333-4444\"\n",
    "\n",
    "# Example usage:\n",
    "print(print_phone_number()) # Output: \"999-333-4444\"\n"
   ]
  },
  {
   "cell_type": "markdown",
   "id": "fab5676c",
   "metadata": {},
   "source": [
    "This function simply returns the string \"999-333-4444\", which is the specified phone number format. You can call this function whenever you need to retrieve the phone number string."
   ]
  },
  {
   "cell_type": "code",
   "execution_count": null,
   "id": "058bebf3",
   "metadata": {},
   "outputs": [],
   "source": []
  }
 ],
 "metadata": {
  "kernelspec": {
   "display_name": "Python 3 (ipykernel)",
   "language": "python",
   "name": "python3"
  },
  "language_info": {
   "codemirror_mode": {
    "name": "ipython",
    "version": 3
   },
   "file_extension": ".py",
   "mimetype": "text/x-python",
   "name": "python",
   "nbconvert_exporter": "python",
   "pygments_lexer": "ipython3",
   "version": "3.9.13"
  }
 },
 "nbformat": 4,
 "nbformat_minor": 5
}
